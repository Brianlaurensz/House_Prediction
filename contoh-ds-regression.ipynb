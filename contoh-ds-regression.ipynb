{
 "cells": [
  {
   "cell_type": "code",
   "execution_count": 1,
   "id": "a8b9c99f",
   "metadata": {
    "_cell_guid": "b1076dfc-b9ad-4769-8c92-a6c4dae69d19",
    "_uuid": "8f2839f25d086af736a60e9eeb907d3b93b6e0e5",
    "execution": {
     "iopub.execute_input": "2022-10-28T01:48:17.231225Z",
     "iopub.status.busy": "2022-10-28T01:48:17.230031Z",
     "iopub.status.idle": "2022-10-28T01:48:17.253517Z",
     "shell.execute_reply": "2022-10-28T01:48:17.252186Z"
    },
    "papermill": {
     "duration": 0.037495,
     "end_time": "2022-10-28T01:48:17.257464",
     "exception": false,
     "start_time": "2022-10-28T01:48:17.219969",
     "status": "completed"
    },
    "tags": []
   },
   "outputs": [
    {
     "name": "stdout",
     "output_type": "stream",
     "text": [
      "/kaggle/input/house-price-prediction-challenge/sample_submission.csv\n",
      "/kaggle/input/house-price-prediction-challenge/train.csv\n",
      "/kaggle/input/house-price-prediction-challenge/test.csv\n"
     ]
    }
   ],
   "source": [
    "# This Python 3 environment comes with many helpful analytics libraries installed\n",
    "# It is defined by the kaggle/python Docker image: https://github.com/kaggle/docker-python\n",
    "# For example, here's several helpful packages to load\n",
    "\n",
    "import numpy as np # linear algebra\n",
    "import pandas as pd # data processing, CSV file I/O (e.g. pd.read_csv)\n",
    "\n",
    "# Input data files are available in the read-only \"../input/\" directory\n",
    "# For example, running this (by clicking run or pressing Shift+Enter) will list all files under the input directory\n",
    "\n",
    "import os\n",
    "for dirname, _, filenames in os.walk('/kaggle/input'):\n",
    "    for filename in filenames:\n",
    "        print(os.path.join(dirname, filename))\n",
    "\n",
    "# You can write up to 20GB to the current directory (/kaggle/working/) that gets preserved as output when you create a version using \"Save & Run All\" \n",
    "# You can also write temporary files to /kaggle/temp/, but they won't be saved outside of the current session"
   ]
  },
  {
   "cell_type": "code",
   "execution_count": 2,
   "id": "afc4564c",
   "metadata": {
    "execution": {
     "iopub.execute_input": "2022-10-28T01:48:17.276167Z",
     "iopub.status.busy": "2022-10-28T01:48:17.275786Z",
     "iopub.status.idle": "2022-10-28T01:48:17.391519Z",
     "shell.execute_reply": "2022-10-28T01:48:17.390525Z"
    },
    "papermill": {
     "duration": 0.127299,
     "end_time": "2022-10-28T01:48:17.394167",
     "exception": false,
     "start_time": "2022-10-28T01:48:17.266868",
     "status": "completed"
    },
    "tags": []
   },
   "outputs": [],
   "source": [
    "df = pd.read_csv('../input/house-price-prediction-challenge/train.csv')"
   ]
  },
  {
   "cell_type": "code",
   "execution_count": 3,
   "id": "6986628f",
   "metadata": {
    "execution": {
     "iopub.execute_input": "2022-10-28T01:48:17.411156Z",
     "iopub.status.busy": "2022-10-28T01:48:17.410310Z",
     "iopub.status.idle": "2022-10-28T01:48:17.449934Z",
     "shell.execute_reply": "2022-10-28T01:48:17.448697Z"
    },
    "papermill": {
     "duration": 0.051073,
     "end_time": "2022-10-28T01:48:17.452741",
     "exception": false,
     "start_time": "2022-10-28T01:48:17.401668",
     "status": "completed"
    },
    "tags": []
   },
   "outputs": [
    {
     "data": {
      "text/html": [
       "<div>\n",
       "<style scoped>\n",
       "    .dataframe tbody tr th:only-of-type {\n",
       "        vertical-align: middle;\n",
       "    }\n",
       "\n",
       "    .dataframe tbody tr th {\n",
       "        vertical-align: top;\n",
       "    }\n",
       "\n",
       "    .dataframe thead th {\n",
       "        text-align: right;\n",
       "    }\n",
       "</style>\n",
       "<table border=\"1\" class=\"dataframe\">\n",
       "  <thead>\n",
       "    <tr style=\"text-align: right;\">\n",
       "      <th></th>\n",
       "      <th>POSTED_BY</th>\n",
       "      <th>UNDER_CONSTRUCTION</th>\n",
       "      <th>RERA</th>\n",
       "      <th>BHK_NO.</th>\n",
       "      <th>BHK_OR_RK</th>\n",
       "      <th>SQUARE_FT</th>\n",
       "      <th>READY_TO_MOVE</th>\n",
       "      <th>RESALE</th>\n",
       "      <th>ADDRESS</th>\n",
       "      <th>LONGITUDE</th>\n",
       "      <th>LATITUDE</th>\n",
       "      <th>TARGET(PRICE_IN_LACS)</th>\n",
       "    </tr>\n",
       "  </thead>\n",
       "  <tbody>\n",
       "    <tr>\n",
       "      <th>0</th>\n",
       "      <td>Owner</td>\n",
       "      <td>0</td>\n",
       "      <td>0</td>\n",
       "      <td>2</td>\n",
       "      <td>BHK</td>\n",
       "      <td>1300.236407</td>\n",
       "      <td>1</td>\n",
       "      <td>1</td>\n",
       "      <td>Ksfc Layout,Bangalore</td>\n",
       "      <td>12.969910</td>\n",
       "      <td>77.597960</td>\n",
       "      <td>55.0</td>\n",
       "    </tr>\n",
       "    <tr>\n",
       "      <th>1</th>\n",
       "      <td>Dealer</td>\n",
       "      <td>0</td>\n",
       "      <td>0</td>\n",
       "      <td>2</td>\n",
       "      <td>BHK</td>\n",
       "      <td>1275.000000</td>\n",
       "      <td>1</td>\n",
       "      <td>1</td>\n",
       "      <td>Vishweshwara Nagar,Mysore</td>\n",
       "      <td>12.274538</td>\n",
       "      <td>76.644605</td>\n",
       "      <td>51.0</td>\n",
       "    </tr>\n",
       "    <tr>\n",
       "      <th>2</th>\n",
       "      <td>Owner</td>\n",
       "      <td>0</td>\n",
       "      <td>0</td>\n",
       "      <td>2</td>\n",
       "      <td>BHK</td>\n",
       "      <td>933.159722</td>\n",
       "      <td>1</td>\n",
       "      <td>1</td>\n",
       "      <td>Jigani,Bangalore</td>\n",
       "      <td>12.778033</td>\n",
       "      <td>77.632191</td>\n",
       "      <td>43.0</td>\n",
       "    </tr>\n",
       "    <tr>\n",
       "      <th>3</th>\n",
       "      <td>Owner</td>\n",
       "      <td>0</td>\n",
       "      <td>1</td>\n",
       "      <td>2</td>\n",
       "      <td>BHK</td>\n",
       "      <td>929.921143</td>\n",
       "      <td>1</td>\n",
       "      <td>1</td>\n",
       "      <td>Sector-1 Vaishali,Ghaziabad</td>\n",
       "      <td>28.642300</td>\n",
       "      <td>77.344500</td>\n",
       "      <td>62.5</td>\n",
       "    </tr>\n",
       "    <tr>\n",
       "      <th>4</th>\n",
       "      <td>Dealer</td>\n",
       "      <td>1</td>\n",
       "      <td>0</td>\n",
       "      <td>2</td>\n",
       "      <td>BHK</td>\n",
       "      <td>999.009247</td>\n",
       "      <td>0</td>\n",
       "      <td>1</td>\n",
       "      <td>New Town,Kolkata</td>\n",
       "      <td>22.592200</td>\n",
       "      <td>88.484911</td>\n",
       "      <td>60.5</td>\n",
       "    </tr>\n",
       "    <tr>\n",
       "      <th>...</th>\n",
       "      <td>...</td>\n",
       "      <td>...</td>\n",
       "      <td>...</td>\n",
       "      <td>...</td>\n",
       "      <td>...</td>\n",
       "      <td>...</td>\n",
       "      <td>...</td>\n",
       "      <td>...</td>\n",
       "      <td>...</td>\n",
       "      <td>...</td>\n",
       "      <td>...</td>\n",
       "      <td>...</td>\n",
       "    </tr>\n",
       "    <tr>\n",
       "      <th>29446</th>\n",
       "      <td>Owner</td>\n",
       "      <td>0</td>\n",
       "      <td>0</td>\n",
       "      <td>3</td>\n",
       "      <td>BHK</td>\n",
       "      <td>2500.000000</td>\n",
       "      <td>1</td>\n",
       "      <td>1</td>\n",
       "      <td>Shamshabad Road,Agra</td>\n",
       "      <td>27.140626</td>\n",
       "      <td>78.043277</td>\n",
       "      <td>45.0</td>\n",
       "    </tr>\n",
       "    <tr>\n",
       "      <th>29447</th>\n",
       "      <td>Owner</td>\n",
       "      <td>0</td>\n",
       "      <td>0</td>\n",
       "      <td>2</td>\n",
       "      <td>BHK</td>\n",
       "      <td>769.230769</td>\n",
       "      <td>1</td>\n",
       "      <td>1</td>\n",
       "      <td>E3-108, Lake View Recidency,,Vapi</td>\n",
       "      <td>39.945409</td>\n",
       "      <td>-86.150721</td>\n",
       "      <td>16.0</td>\n",
       "    </tr>\n",
       "    <tr>\n",
       "      <th>29448</th>\n",
       "      <td>Dealer</td>\n",
       "      <td>0</td>\n",
       "      <td>0</td>\n",
       "      <td>2</td>\n",
       "      <td>BHK</td>\n",
       "      <td>1022.641509</td>\n",
       "      <td>1</td>\n",
       "      <td>1</td>\n",
       "      <td>Ajmer Road,Jaipur</td>\n",
       "      <td>26.928785</td>\n",
       "      <td>75.828002</td>\n",
       "      <td>27.1</td>\n",
       "    </tr>\n",
       "    <tr>\n",
       "      <th>29449</th>\n",
       "      <td>Owner</td>\n",
       "      <td>0</td>\n",
       "      <td>0</td>\n",
       "      <td>2</td>\n",
       "      <td>BHK</td>\n",
       "      <td>927.079009</td>\n",
       "      <td>1</td>\n",
       "      <td>1</td>\n",
       "      <td>Sholinganallur,Chennai</td>\n",
       "      <td>12.900150</td>\n",
       "      <td>80.227910</td>\n",
       "      <td>67.0</td>\n",
       "    </tr>\n",
       "    <tr>\n",
       "      <th>29450</th>\n",
       "      <td>Dealer</td>\n",
       "      <td>0</td>\n",
       "      <td>1</td>\n",
       "      <td>2</td>\n",
       "      <td>BHK</td>\n",
       "      <td>896.774194</td>\n",
       "      <td>1</td>\n",
       "      <td>1</td>\n",
       "      <td>Jagatpura,Jaipur</td>\n",
       "      <td>26.832353</td>\n",
       "      <td>75.841749</td>\n",
       "      <td>27.8</td>\n",
       "    </tr>\n",
       "  </tbody>\n",
       "</table>\n",
       "<p>29451 rows × 12 columns</p>\n",
       "</div>"
      ],
      "text/plain": [
       "      POSTED_BY  UNDER_CONSTRUCTION  RERA  BHK_NO. BHK_OR_RK    SQUARE_FT  \\\n",
       "0         Owner                   0     0        2       BHK  1300.236407   \n",
       "1        Dealer                   0     0        2       BHK  1275.000000   \n",
       "2         Owner                   0     0        2       BHK   933.159722   \n",
       "3         Owner                   0     1        2       BHK   929.921143   \n",
       "4        Dealer                   1     0        2       BHK   999.009247   \n",
       "...         ...                 ...   ...      ...       ...          ...   \n",
       "29446     Owner                   0     0        3       BHK  2500.000000   \n",
       "29447     Owner                   0     0        2       BHK   769.230769   \n",
       "29448    Dealer                   0     0        2       BHK  1022.641509   \n",
       "29449     Owner                   0     0        2       BHK   927.079009   \n",
       "29450    Dealer                   0     1        2       BHK   896.774194   \n",
       "\n",
       "       READY_TO_MOVE  RESALE                            ADDRESS  LONGITUDE  \\\n",
       "0                  1       1              Ksfc Layout,Bangalore  12.969910   \n",
       "1                  1       1          Vishweshwara Nagar,Mysore  12.274538   \n",
       "2                  1       1                   Jigani,Bangalore  12.778033   \n",
       "3                  1       1        Sector-1 Vaishali,Ghaziabad  28.642300   \n",
       "4                  0       1                   New Town,Kolkata  22.592200   \n",
       "...              ...     ...                                ...        ...   \n",
       "29446              1       1               Shamshabad Road,Agra  27.140626   \n",
       "29447              1       1  E3-108, Lake View Recidency,,Vapi  39.945409   \n",
       "29448              1       1                  Ajmer Road,Jaipur  26.928785   \n",
       "29449              1       1             Sholinganallur,Chennai  12.900150   \n",
       "29450              1       1                   Jagatpura,Jaipur  26.832353   \n",
       "\n",
       "        LATITUDE  TARGET(PRICE_IN_LACS)  \n",
       "0      77.597960                   55.0  \n",
       "1      76.644605                   51.0  \n",
       "2      77.632191                   43.0  \n",
       "3      77.344500                   62.5  \n",
       "4      88.484911                   60.5  \n",
       "...          ...                    ...  \n",
       "29446  78.043277                   45.0  \n",
       "29447 -86.150721                   16.0  \n",
       "29448  75.828002                   27.1  \n",
       "29449  80.227910                   67.0  \n",
       "29450  75.841749                   27.8  \n",
       "\n",
       "[29451 rows x 12 columns]"
      ]
     },
     "execution_count": 3,
     "metadata": {},
     "output_type": "execute_result"
    }
   ],
   "source": [
    "df"
   ]
  },
  {
   "cell_type": "code",
   "execution_count": 4,
   "id": "043710b1",
   "metadata": {
    "execution": {
     "iopub.execute_input": "2022-10-28T01:48:17.469804Z",
     "iopub.status.busy": "2022-10-28T01:48:17.469400Z",
     "iopub.status.idle": "2022-10-28T01:48:17.506578Z",
     "shell.execute_reply": "2022-10-28T01:48:17.504949Z"
    },
    "papermill": {
     "duration": 0.049733,
     "end_time": "2022-10-28T01:48:17.510368",
     "exception": false,
     "start_time": "2022-10-28T01:48:17.460635",
     "status": "completed"
    },
    "tags": []
   },
   "outputs": [
    {
     "name": "stdout",
     "output_type": "stream",
     "text": [
      "<class 'pandas.core.frame.DataFrame'>\n",
      "RangeIndex: 29451 entries, 0 to 29450\n",
      "Data columns (total 12 columns):\n",
      " #   Column                 Non-Null Count  Dtype  \n",
      "---  ------                 --------------  -----  \n",
      " 0   POSTED_BY              29451 non-null  object \n",
      " 1   UNDER_CONSTRUCTION     29451 non-null  int64  \n",
      " 2   RERA                   29451 non-null  int64  \n",
      " 3   BHK_NO.                29451 non-null  int64  \n",
      " 4   BHK_OR_RK              29451 non-null  object \n",
      " 5   SQUARE_FT              29451 non-null  float64\n",
      " 6   READY_TO_MOVE          29451 non-null  int64  \n",
      " 7   RESALE                 29451 non-null  int64  \n",
      " 8   ADDRESS                29451 non-null  object \n",
      " 9   LONGITUDE              29451 non-null  float64\n",
      " 10  LATITUDE               29451 non-null  float64\n",
      " 11  TARGET(PRICE_IN_LACS)  29451 non-null  float64\n",
      "dtypes: float64(4), int64(5), object(3)\n",
      "memory usage: 2.7+ MB\n"
     ]
    }
   ],
   "source": [
    "df.info()"
   ]
  },
  {
   "cell_type": "code",
   "execution_count": 5,
   "id": "58235e22",
   "metadata": {
    "execution": {
     "iopub.execute_input": "2022-10-28T01:48:17.529012Z",
     "iopub.status.busy": "2022-10-28T01:48:17.528153Z",
     "iopub.status.idle": "2022-10-28T01:48:17.536283Z",
     "shell.execute_reply": "2022-10-28T01:48:17.534772Z"
    },
    "papermill": {
     "duration": 0.019991,
     "end_time": "2022-10-28T01:48:17.538569",
     "exception": false,
     "start_time": "2022-10-28T01:48:17.518578",
     "status": "completed"
    },
    "tags": []
   },
   "outputs": [],
   "source": [
    "df.drop(['POSTED_BY', 'BHK_OR_RK', 'ADDRESS'], axis=1, inplace = True)"
   ]
  },
  {
   "cell_type": "code",
   "execution_count": 6,
   "id": "e3b95747",
   "metadata": {
    "execution": {
     "iopub.execute_input": "2022-10-28T01:48:17.555732Z",
     "iopub.status.busy": "2022-10-28T01:48:17.555323Z",
     "iopub.status.idle": "2022-10-28T01:48:17.576090Z",
     "shell.execute_reply": "2022-10-28T01:48:17.574825Z"
    },
    "papermill": {
     "duration": 0.032046,
     "end_time": "2022-10-28T01:48:17.578428",
     "exception": false,
     "start_time": "2022-10-28T01:48:17.546382",
     "status": "completed"
    },
    "tags": []
   },
   "outputs": [
    {
     "data": {
      "text/html": [
       "<div>\n",
       "<style scoped>\n",
       "    .dataframe tbody tr th:only-of-type {\n",
       "        vertical-align: middle;\n",
       "    }\n",
       "\n",
       "    .dataframe tbody tr th {\n",
       "        vertical-align: top;\n",
       "    }\n",
       "\n",
       "    .dataframe thead th {\n",
       "        text-align: right;\n",
       "    }\n",
       "</style>\n",
       "<table border=\"1\" class=\"dataframe\">\n",
       "  <thead>\n",
       "    <tr style=\"text-align: right;\">\n",
       "      <th></th>\n",
       "      <th>UNDER_CONSTRUCTION</th>\n",
       "      <th>RERA</th>\n",
       "      <th>BHK_NO.</th>\n",
       "      <th>SQUARE_FT</th>\n",
       "      <th>READY_TO_MOVE</th>\n",
       "      <th>RESALE</th>\n",
       "      <th>LONGITUDE</th>\n",
       "      <th>LATITUDE</th>\n",
       "      <th>TARGET(PRICE_IN_LACS)</th>\n",
       "    </tr>\n",
       "  </thead>\n",
       "  <tbody>\n",
       "    <tr>\n",
       "      <th>0</th>\n",
       "      <td>0</td>\n",
       "      <td>0</td>\n",
       "      <td>2</td>\n",
       "      <td>1300.236407</td>\n",
       "      <td>1</td>\n",
       "      <td>1</td>\n",
       "      <td>12.969910</td>\n",
       "      <td>77.597960</td>\n",
       "      <td>55.0</td>\n",
       "    </tr>\n",
       "    <tr>\n",
       "      <th>1</th>\n",
       "      <td>0</td>\n",
       "      <td>0</td>\n",
       "      <td>2</td>\n",
       "      <td>1275.000000</td>\n",
       "      <td>1</td>\n",
       "      <td>1</td>\n",
       "      <td>12.274538</td>\n",
       "      <td>76.644605</td>\n",
       "      <td>51.0</td>\n",
       "    </tr>\n",
       "    <tr>\n",
       "      <th>2</th>\n",
       "      <td>0</td>\n",
       "      <td>0</td>\n",
       "      <td>2</td>\n",
       "      <td>933.159722</td>\n",
       "      <td>1</td>\n",
       "      <td>1</td>\n",
       "      <td>12.778033</td>\n",
       "      <td>77.632191</td>\n",
       "      <td>43.0</td>\n",
       "    </tr>\n",
       "    <tr>\n",
       "      <th>3</th>\n",
       "      <td>0</td>\n",
       "      <td>1</td>\n",
       "      <td>2</td>\n",
       "      <td>929.921143</td>\n",
       "      <td>1</td>\n",
       "      <td>1</td>\n",
       "      <td>28.642300</td>\n",
       "      <td>77.344500</td>\n",
       "      <td>62.5</td>\n",
       "    </tr>\n",
       "    <tr>\n",
       "      <th>4</th>\n",
       "      <td>1</td>\n",
       "      <td>0</td>\n",
       "      <td>2</td>\n",
       "      <td>999.009247</td>\n",
       "      <td>0</td>\n",
       "      <td>1</td>\n",
       "      <td>22.592200</td>\n",
       "      <td>88.484911</td>\n",
       "      <td>60.5</td>\n",
       "    </tr>\n",
       "    <tr>\n",
       "      <th>...</th>\n",
       "      <td>...</td>\n",
       "      <td>...</td>\n",
       "      <td>...</td>\n",
       "      <td>...</td>\n",
       "      <td>...</td>\n",
       "      <td>...</td>\n",
       "      <td>...</td>\n",
       "      <td>...</td>\n",
       "      <td>...</td>\n",
       "    </tr>\n",
       "    <tr>\n",
       "      <th>29446</th>\n",
       "      <td>0</td>\n",
       "      <td>0</td>\n",
       "      <td>3</td>\n",
       "      <td>2500.000000</td>\n",
       "      <td>1</td>\n",
       "      <td>1</td>\n",
       "      <td>27.140626</td>\n",
       "      <td>78.043277</td>\n",
       "      <td>45.0</td>\n",
       "    </tr>\n",
       "    <tr>\n",
       "      <th>29447</th>\n",
       "      <td>0</td>\n",
       "      <td>0</td>\n",
       "      <td>2</td>\n",
       "      <td>769.230769</td>\n",
       "      <td>1</td>\n",
       "      <td>1</td>\n",
       "      <td>39.945409</td>\n",
       "      <td>-86.150721</td>\n",
       "      <td>16.0</td>\n",
       "    </tr>\n",
       "    <tr>\n",
       "      <th>29448</th>\n",
       "      <td>0</td>\n",
       "      <td>0</td>\n",
       "      <td>2</td>\n",
       "      <td>1022.641509</td>\n",
       "      <td>1</td>\n",
       "      <td>1</td>\n",
       "      <td>26.928785</td>\n",
       "      <td>75.828002</td>\n",
       "      <td>27.1</td>\n",
       "    </tr>\n",
       "    <tr>\n",
       "      <th>29449</th>\n",
       "      <td>0</td>\n",
       "      <td>0</td>\n",
       "      <td>2</td>\n",
       "      <td>927.079009</td>\n",
       "      <td>1</td>\n",
       "      <td>1</td>\n",
       "      <td>12.900150</td>\n",
       "      <td>80.227910</td>\n",
       "      <td>67.0</td>\n",
       "    </tr>\n",
       "    <tr>\n",
       "      <th>29450</th>\n",
       "      <td>0</td>\n",
       "      <td>1</td>\n",
       "      <td>2</td>\n",
       "      <td>896.774194</td>\n",
       "      <td>1</td>\n",
       "      <td>1</td>\n",
       "      <td>26.832353</td>\n",
       "      <td>75.841749</td>\n",
       "      <td>27.8</td>\n",
       "    </tr>\n",
       "  </tbody>\n",
       "</table>\n",
       "<p>29451 rows × 9 columns</p>\n",
       "</div>"
      ],
      "text/plain": [
       "       UNDER_CONSTRUCTION  RERA  BHK_NO.    SQUARE_FT  READY_TO_MOVE  RESALE  \\\n",
       "0                       0     0        2  1300.236407              1       1   \n",
       "1                       0     0        2  1275.000000              1       1   \n",
       "2                       0     0        2   933.159722              1       1   \n",
       "3                       0     1        2   929.921143              1       1   \n",
       "4                       1     0        2   999.009247              0       1   \n",
       "...                   ...   ...      ...          ...            ...     ...   \n",
       "29446                   0     0        3  2500.000000              1       1   \n",
       "29447                   0     0        2   769.230769              1       1   \n",
       "29448                   0     0        2  1022.641509              1       1   \n",
       "29449                   0     0        2   927.079009              1       1   \n",
       "29450                   0     1        2   896.774194              1       1   \n",
       "\n",
       "       LONGITUDE   LATITUDE  TARGET(PRICE_IN_LACS)  \n",
       "0      12.969910  77.597960                   55.0  \n",
       "1      12.274538  76.644605                   51.0  \n",
       "2      12.778033  77.632191                   43.0  \n",
       "3      28.642300  77.344500                   62.5  \n",
       "4      22.592200  88.484911                   60.5  \n",
       "...          ...        ...                    ...  \n",
       "29446  27.140626  78.043277                   45.0  \n",
       "29447  39.945409 -86.150721                   16.0  \n",
       "29448  26.928785  75.828002                   27.1  \n",
       "29449  12.900150  80.227910                   67.0  \n",
       "29450  26.832353  75.841749                   27.8  \n",
       "\n",
       "[29451 rows x 9 columns]"
      ]
     },
     "execution_count": 6,
     "metadata": {},
     "output_type": "execute_result"
    }
   ],
   "source": [
    "df"
   ]
  },
  {
   "cell_type": "code",
   "execution_count": 7,
   "id": "7853ae65",
   "metadata": {
    "execution": {
     "iopub.execute_input": "2022-10-28T01:48:17.595898Z",
     "iopub.status.busy": "2022-10-28T01:48:17.595515Z",
     "iopub.status.idle": "2022-10-28T01:48:17.610174Z",
     "shell.execute_reply": "2022-10-28T01:48:17.608752Z"
    },
    "papermill": {
     "duration": 0.026485,
     "end_time": "2022-10-28T01:48:17.612949",
     "exception": false,
     "start_time": "2022-10-28T01:48:17.586464",
     "status": "completed"
    },
    "tags": []
   },
   "outputs": [
    {
     "name": "stdout",
     "output_type": "stream",
     "text": [
      "<class 'pandas.core.frame.DataFrame'>\n",
      "RangeIndex: 29451 entries, 0 to 29450\n",
      "Data columns (total 9 columns):\n",
      " #   Column                 Non-Null Count  Dtype  \n",
      "---  ------                 --------------  -----  \n",
      " 0   UNDER_CONSTRUCTION     29451 non-null  int64  \n",
      " 1   RERA                   29451 non-null  int64  \n",
      " 2   BHK_NO.                29451 non-null  int64  \n",
      " 3   SQUARE_FT              29451 non-null  float64\n",
      " 4   READY_TO_MOVE          29451 non-null  int64  \n",
      " 5   RESALE                 29451 non-null  int64  \n",
      " 6   LONGITUDE              29451 non-null  float64\n",
      " 7   LATITUDE               29451 non-null  float64\n",
      " 8   TARGET(PRICE_IN_LACS)  29451 non-null  float64\n",
      "dtypes: float64(4), int64(5)\n",
      "memory usage: 2.0 MB\n"
     ]
    }
   ],
   "source": [
    "df.info()"
   ]
  },
  {
   "cell_type": "code",
   "execution_count": 8,
   "id": "2c884ede",
   "metadata": {
    "execution": {
     "iopub.execute_input": "2022-10-28T01:48:17.631750Z",
     "iopub.status.busy": "2022-10-28T01:48:17.631066Z",
     "iopub.status.idle": "2022-10-28T01:48:17.636983Z",
     "shell.execute_reply": "2022-10-28T01:48:17.635825Z"
    },
    "papermill": {
     "duration": 0.017844,
     "end_time": "2022-10-28T01:48:17.639268",
     "exception": false,
     "start_time": "2022-10-28T01:48:17.621424",
     "status": "completed"
    },
    "tags": []
   },
   "outputs": [],
   "source": [
    "df = df.astype(float)"
   ]
  },
  {
   "cell_type": "code",
   "execution_count": 9,
   "id": "d8cd5ed9",
   "metadata": {
    "execution": {
     "iopub.execute_input": "2022-10-28T01:48:17.658211Z",
     "iopub.status.busy": "2022-10-28T01:48:17.657812Z",
     "iopub.status.idle": "2022-10-28T01:48:17.671774Z",
     "shell.execute_reply": "2022-10-28T01:48:17.669910Z"
    },
    "papermill": {
     "duration": 0.027115,
     "end_time": "2022-10-28T01:48:17.675285",
     "exception": false,
     "start_time": "2022-10-28T01:48:17.648170",
     "status": "completed"
    },
    "tags": []
   },
   "outputs": [
    {
     "name": "stdout",
     "output_type": "stream",
     "text": [
      "<class 'pandas.core.frame.DataFrame'>\n",
      "RangeIndex: 29451 entries, 0 to 29450\n",
      "Data columns (total 9 columns):\n",
      " #   Column                 Non-Null Count  Dtype  \n",
      "---  ------                 --------------  -----  \n",
      " 0   UNDER_CONSTRUCTION     29451 non-null  float64\n",
      " 1   RERA                   29451 non-null  float64\n",
      " 2   BHK_NO.                29451 non-null  float64\n",
      " 3   SQUARE_FT              29451 non-null  float64\n",
      " 4   READY_TO_MOVE          29451 non-null  float64\n",
      " 5   RESALE                 29451 non-null  float64\n",
      " 6   LONGITUDE              29451 non-null  float64\n",
      " 7   LATITUDE               29451 non-null  float64\n",
      " 8   TARGET(PRICE_IN_LACS)  29451 non-null  float64\n",
      "dtypes: float64(9)\n",
      "memory usage: 2.0 MB\n"
     ]
    }
   ],
   "source": [
    "df.info()"
   ]
  },
  {
   "cell_type": "code",
   "execution_count": 10,
   "id": "eedf4bc7",
   "metadata": {
    "execution": {
     "iopub.execute_input": "2022-10-28T01:48:17.697204Z",
     "iopub.status.busy": "2022-10-28T01:48:17.696813Z",
     "iopub.status.idle": "2022-10-28T01:48:17.718660Z",
     "shell.execute_reply": "2022-10-28T01:48:17.717557Z"
    },
    "papermill": {
     "duration": 0.036566,
     "end_time": "2022-10-28T01:48:17.722887",
     "exception": false,
     "start_time": "2022-10-28T01:48:17.686321",
     "status": "completed"
    },
    "tags": []
   },
   "outputs": [
    {
     "name": "stderr",
     "output_type": "stream",
     "text": [
      "/opt/conda/lib/python3.7/site-packages/ipykernel_launcher.py:2: FutureWarning: In a future version of pandas all arguments of DataFrame.drop except for the argument 'labels' will be keyword-only\n",
      "  \n"
     ]
    },
    {
     "data": {
      "text/html": [
       "<div>\n",
       "<style scoped>\n",
       "    .dataframe tbody tr th:only-of-type {\n",
       "        vertical-align: middle;\n",
       "    }\n",
       "\n",
       "    .dataframe tbody tr th {\n",
       "        vertical-align: top;\n",
       "    }\n",
       "\n",
       "    .dataframe thead th {\n",
       "        text-align: right;\n",
       "    }\n",
       "</style>\n",
       "<table border=\"1\" class=\"dataframe\">\n",
       "  <thead>\n",
       "    <tr style=\"text-align: right;\">\n",
       "      <th></th>\n",
       "      <th>UNDER_CONSTRUCTION</th>\n",
       "      <th>RERA</th>\n",
       "      <th>BHK_NO.</th>\n",
       "      <th>SQUARE_FT</th>\n",
       "      <th>READY_TO_MOVE</th>\n",
       "      <th>RESALE</th>\n",
       "      <th>LONGITUDE</th>\n",
       "      <th>LATITUDE</th>\n",
       "    </tr>\n",
       "  </thead>\n",
       "  <tbody>\n",
       "    <tr>\n",
       "      <th>0</th>\n",
       "      <td>0.0</td>\n",
       "      <td>0.0</td>\n",
       "      <td>2.0</td>\n",
       "      <td>1300.236407</td>\n",
       "      <td>1.0</td>\n",
       "      <td>1.0</td>\n",
       "      <td>12.969910</td>\n",
       "      <td>77.597960</td>\n",
       "    </tr>\n",
       "    <tr>\n",
       "      <th>1</th>\n",
       "      <td>0.0</td>\n",
       "      <td>0.0</td>\n",
       "      <td>2.0</td>\n",
       "      <td>1275.000000</td>\n",
       "      <td>1.0</td>\n",
       "      <td>1.0</td>\n",
       "      <td>12.274538</td>\n",
       "      <td>76.644605</td>\n",
       "    </tr>\n",
       "    <tr>\n",
       "      <th>2</th>\n",
       "      <td>0.0</td>\n",
       "      <td>0.0</td>\n",
       "      <td>2.0</td>\n",
       "      <td>933.159722</td>\n",
       "      <td>1.0</td>\n",
       "      <td>1.0</td>\n",
       "      <td>12.778033</td>\n",
       "      <td>77.632191</td>\n",
       "    </tr>\n",
       "    <tr>\n",
       "      <th>3</th>\n",
       "      <td>0.0</td>\n",
       "      <td>1.0</td>\n",
       "      <td>2.0</td>\n",
       "      <td>929.921143</td>\n",
       "      <td>1.0</td>\n",
       "      <td>1.0</td>\n",
       "      <td>28.642300</td>\n",
       "      <td>77.344500</td>\n",
       "    </tr>\n",
       "    <tr>\n",
       "      <th>4</th>\n",
       "      <td>1.0</td>\n",
       "      <td>0.0</td>\n",
       "      <td>2.0</td>\n",
       "      <td>999.009247</td>\n",
       "      <td>0.0</td>\n",
       "      <td>1.0</td>\n",
       "      <td>22.592200</td>\n",
       "      <td>88.484911</td>\n",
       "    </tr>\n",
       "  </tbody>\n",
       "</table>\n",
       "</div>"
      ],
      "text/plain": [
       "   UNDER_CONSTRUCTION  RERA  BHK_NO.    SQUARE_FT  READY_TO_MOVE  RESALE  \\\n",
       "0                 0.0   0.0      2.0  1300.236407            1.0     1.0   \n",
       "1                 0.0   0.0      2.0  1275.000000            1.0     1.0   \n",
       "2                 0.0   0.0      2.0   933.159722            1.0     1.0   \n",
       "3                 0.0   1.0      2.0   929.921143            1.0     1.0   \n",
       "4                 1.0   0.0      2.0   999.009247            0.0     1.0   \n",
       "\n",
       "   LONGITUDE   LATITUDE  \n",
       "0  12.969910  77.597960  \n",
       "1  12.274538  76.644605  \n",
       "2  12.778033  77.632191  \n",
       "3  28.642300  77.344500  \n",
       "4  22.592200  88.484911  "
      ]
     },
     "execution_count": 10,
     "metadata": {},
     "output_type": "execute_result"
    }
   ],
   "source": [
    "y= df['TARGET(PRICE_IN_LACS)']\n",
    "X= df.drop(['TARGET(PRICE_IN_LACS)'],1)\n",
    "X.head()"
   ]
  },
  {
   "cell_type": "code",
   "execution_count": 11,
   "id": "ad1bb706",
   "metadata": {
    "execution": {
     "iopub.execute_input": "2022-10-28T01:48:17.745939Z",
     "iopub.status.busy": "2022-10-28T01:48:17.744972Z",
     "iopub.status.idle": "2022-10-28T01:48:17.756403Z",
     "shell.execute_reply": "2022-10-28T01:48:17.754562Z"
    },
    "papermill": {
     "duration": 0.025851,
     "end_time": "2022-10-28T01:48:17.760165",
     "exception": false,
     "start_time": "2022-10-28T01:48:17.734314",
     "status": "completed"
    },
    "tags": []
   },
   "outputs": [
    {
     "data": {
      "text/plain": [
       "0        55.0\n",
       "1        51.0\n",
       "2        43.0\n",
       "3        62.5\n",
       "4        60.5\n",
       "         ... \n",
       "29446    45.0\n",
       "29447    16.0\n",
       "29448    27.1\n",
       "29449    67.0\n",
       "29450    27.8\n",
       "Name: TARGET(PRICE_IN_LACS), Length: 29451, dtype: float64"
      ]
     },
     "execution_count": 11,
     "metadata": {},
     "output_type": "execute_result"
    }
   ],
   "source": [
    "y"
   ]
  },
  {
   "cell_type": "code",
   "execution_count": 12,
   "id": "380ce5b2",
   "metadata": {
    "execution": {
     "iopub.execute_input": "2022-10-28T01:48:17.780685Z",
     "iopub.status.busy": "2022-10-28T01:48:17.780258Z",
     "iopub.status.idle": "2022-10-28T01:48:19.032243Z",
     "shell.execute_reply": "2022-10-28T01:48:19.031030Z"
    },
    "papermill": {
     "duration": 1.26659,
     "end_time": "2022-10-28T01:48:19.036042",
     "exception": false,
     "start_time": "2022-10-28T01:48:17.769452",
     "status": "completed"
    },
    "tags": []
   },
   "outputs": [],
   "source": [
    "from sklearn.model_selection import train_test_split"
   ]
  },
  {
   "cell_type": "code",
   "execution_count": 13,
   "id": "eefe1981",
   "metadata": {
    "execution": {
     "iopub.execute_input": "2022-10-28T01:48:19.065057Z",
     "iopub.status.busy": "2022-10-28T01:48:19.064442Z",
     "iopub.status.idle": "2022-10-28T01:48:19.079242Z",
     "shell.execute_reply": "2022-10-28T01:48:19.077993Z"
    },
    "papermill": {
     "duration": 0.033471,
     "end_time": "2022-10-28T01:48:19.082373",
     "exception": false,
     "start_time": "2022-10-28T01:48:19.048902",
     "status": "completed"
    },
    "tags": []
   },
   "outputs": [],
   "source": [
    "X_train, X_test, y_train, y_test = train_test_split(X, y, test_size=0.2, random_state=1001)"
   ]
  },
  {
   "cell_type": "code",
   "execution_count": 14,
   "id": "2bc5fa57",
   "metadata": {
    "execution": {
     "iopub.execute_input": "2022-10-28T01:48:19.104789Z",
     "iopub.status.busy": "2022-10-28T01:48:19.104393Z",
     "iopub.status.idle": "2022-10-28T01:48:19.218294Z",
     "shell.execute_reply": "2022-10-28T01:48:19.216423Z"
    },
    "papermill": {
     "duration": 0.128381,
     "end_time": "2022-10-28T01:48:19.222787",
     "exception": false,
     "start_time": "2022-10-28T01:48:19.094406",
     "status": "completed"
    },
    "tags": []
   },
   "outputs": [],
   "source": [
    "from sklearn.linear_model import LinearRegression\n",
    "\n",
    "model1 = LinearRegression().fit(X_train,y_train)"
   ]
  },
  {
   "cell_type": "code",
   "execution_count": 15,
   "id": "4061210f",
   "metadata": {
    "execution": {
     "iopub.execute_input": "2022-10-28T01:48:19.253392Z",
     "iopub.status.busy": "2022-10-28T01:48:19.251733Z",
     "iopub.status.idle": "2022-10-28T01:48:19.266802Z",
     "shell.execute_reply": "2022-10-28T01:48:19.265214Z"
    },
    "papermill": {
     "duration": 0.031657,
     "end_time": "2022-10-28T01:48:19.272697",
     "exception": false,
     "start_time": "2022-10-28T01:48:19.241040",
     "status": "completed"
    },
    "tags": []
   },
   "outputs": [],
   "source": [
    "y_test_pred = model1.predict(X_test)"
   ]
  },
  {
   "cell_type": "code",
   "execution_count": 16,
   "id": "427e8297",
   "metadata": {
    "execution": {
     "iopub.execute_input": "2022-10-28T01:48:19.349866Z",
     "iopub.status.busy": "2022-10-28T01:48:19.349125Z",
     "iopub.status.idle": "2022-10-28T01:48:19.357641Z",
     "shell.execute_reply": "2022-10-28T01:48:19.355790Z"
    },
    "papermill": {
     "duration": 0.047536,
     "end_time": "2022-10-28T01:48:19.361670",
     "exception": false,
     "start_time": "2022-10-28T01:48:19.314134",
     "status": "completed"
    },
    "tags": []
   },
   "outputs": [],
   "source": [
    "from sklearn.metrics import mean_absolute_error\n",
    "from sklearn.metrics import mean_squared_error"
   ]
  },
  {
   "cell_type": "code",
   "execution_count": 17,
   "id": "49ad81ac",
   "metadata": {
    "execution": {
     "iopub.execute_input": "2022-10-28T01:48:19.394747Z",
     "iopub.status.busy": "2022-10-28T01:48:19.394327Z",
     "iopub.status.idle": "2022-10-28T01:48:19.401230Z",
     "shell.execute_reply": "2022-10-28T01:48:19.400421Z"
    },
    "papermill": {
     "duration": 0.019629,
     "end_time": "2022-10-28T01:48:19.403461",
     "exception": false,
     "start_time": "2022-10-28T01:48:19.383832",
     "status": "completed"
    },
    "tags": []
   },
   "outputs": [
    {
     "data": {
      "text/plain": [
       "145.56636746423175"
      ]
     },
     "execution_count": 17,
     "metadata": {},
     "output_type": "execute_result"
    }
   ],
   "source": [
    "mean_absolute_error(y_test, y_test_pred)"
   ]
  },
  {
   "cell_type": "code",
   "execution_count": 18,
   "id": "4543a35e",
   "metadata": {
    "execution": {
     "iopub.execute_input": "2022-10-28T01:48:19.422680Z",
     "iopub.status.busy": "2022-10-28T01:48:19.421979Z",
     "iopub.status.idle": "2022-10-28T01:48:19.436923Z",
     "shell.execute_reply": "2022-10-28T01:48:19.435852Z"
    },
    "papermill": {
     "duration": 0.027614,
     "end_time": "2022-10-28T01:48:19.439755",
     "exception": false,
     "start_time": "2022-10-28T01:48:19.412141",
     "status": "completed"
    },
    "tags": []
   },
   "outputs": [],
   "source": [
    "from sklearn.linear_model import Lasso\n",
    "\n",
    "model2 = Lasso().fit(X_train,y_train)"
   ]
  },
  {
   "cell_type": "code",
   "execution_count": 19,
   "id": "c7d75304",
   "metadata": {
    "execution": {
     "iopub.execute_input": "2022-10-28T01:48:19.474829Z",
     "iopub.status.busy": "2022-10-28T01:48:19.474113Z",
     "iopub.status.idle": "2022-10-28T01:48:19.490467Z",
     "shell.execute_reply": "2022-10-28T01:48:19.488496Z"
    },
    "papermill": {
     "duration": 0.050562,
     "end_time": "2022-10-28T01:48:19.499356",
     "exception": false,
     "start_time": "2022-10-28T01:48:19.448794",
     "status": "completed"
    },
    "tags": []
   },
   "outputs": [],
   "source": [
    "y_test_pred2 = model2.predict(X_test)"
   ]
  },
  {
   "cell_type": "code",
   "execution_count": 20,
   "id": "19cf2275",
   "metadata": {
    "execution": {
     "iopub.execute_input": "2022-10-28T01:48:19.569029Z",
     "iopub.status.busy": "2022-10-28T01:48:19.568348Z",
     "iopub.status.idle": "2022-10-28T01:48:19.582705Z",
     "shell.execute_reply": "2022-10-28T01:48:19.580929Z"
    },
    "papermill": {
     "duration": 0.049866,
     "end_time": "2022-10-28T01:48:19.592593",
     "exception": false,
     "start_time": "2022-10-28T01:48:19.542727",
     "status": "completed"
    },
    "tags": []
   },
   "outputs": [
    {
     "data": {
      "text/plain": [
       "144.23790682865965"
      ]
     },
     "execution_count": 20,
     "metadata": {},
     "output_type": "execute_result"
    }
   ],
   "source": [
    "mean_absolute_error(y_test, y_test_pred2)"
   ]
  },
  {
   "cell_type": "code",
   "execution_count": 21,
   "id": "bab6e96d",
   "metadata": {
    "execution": {
     "iopub.execute_input": "2022-10-28T01:48:19.618797Z",
     "iopub.status.busy": "2022-10-28T01:48:19.618386Z",
     "iopub.status.idle": "2022-10-28T01:48:19.638162Z",
     "shell.execute_reply": "2022-10-28T01:48:19.636082Z"
    },
    "papermill": {
     "duration": 0.032787,
     "end_time": "2022-10-28T01:48:19.641319",
     "exception": false,
     "start_time": "2022-10-28T01:48:19.608532",
     "status": "completed"
    },
    "tags": []
   },
   "outputs": [
    {
     "name": "stderr",
     "output_type": "stream",
     "text": [
      "/opt/conda/lib/python3.7/site-packages/sklearn/linear_model/_ridge.py:157: LinAlgWarning: Ill-conditioned matrix (rcond=9.39197e-18): result may not be accurate.\n",
      "  return linalg.solve(A, Xy, sym_pos=True, overwrite_a=True).T\n"
     ]
    }
   ],
   "source": [
    "from sklearn.linear_model import Ridge\n",
    "\n",
    "model3 = Ridge().fit(X_train,y_train)"
   ]
  },
  {
   "cell_type": "code",
   "execution_count": 22,
   "id": "95f369c8",
   "metadata": {
    "execution": {
     "iopub.execute_input": "2022-10-28T01:48:19.664093Z",
     "iopub.status.busy": "2022-10-28T01:48:19.662784Z",
     "iopub.status.idle": "2022-10-28T01:48:19.673395Z",
     "shell.execute_reply": "2022-10-28T01:48:19.671756Z"
    },
    "papermill": {
     "duration": 0.027141,
     "end_time": "2022-10-28T01:48:19.677853",
     "exception": false,
     "start_time": "2022-10-28T01:48:19.650712",
     "status": "completed"
    },
    "tags": []
   },
   "outputs": [],
   "source": [
    "y_test_pred3 = model3.predict(X_test)"
   ]
  },
  {
   "cell_type": "code",
   "execution_count": 23,
   "id": "6b22ec11",
   "metadata": {
    "execution": {
     "iopub.execute_input": "2022-10-28T01:48:19.727967Z",
     "iopub.status.busy": "2022-10-28T01:48:19.727218Z",
     "iopub.status.idle": "2022-10-28T01:48:19.740304Z",
     "shell.execute_reply": "2022-10-28T01:48:19.738746Z"
    },
    "papermill": {
     "duration": 0.042908,
     "end_time": "2022-10-28T01:48:19.744495",
     "exception": false,
     "start_time": "2022-10-28T01:48:19.701587",
     "status": "completed"
    },
    "tags": []
   },
   "outputs": [
    {
     "data": {
      "text/plain": [
       "145.54915562987688"
      ]
     },
     "execution_count": 23,
     "metadata": {},
     "output_type": "execute_result"
    }
   ],
   "source": [
    "mean_absolute_error(y_test, y_test_pred3)"
   ]
  },
  {
   "cell_type": "code",
   "execution_count": 24,
   "id": "d3b92ddd",
   "metadata": {
    "execution": {
     "iopub.execute_input": "2022-10-28T01:48:19.792521Z",
     "iopub.status.busy": "2022-10-28T01:48:19.792101Z",
     "iopub.status.idle": "2022-10-28T01:48:19.803440Z",
     "shell.execute_reply": "2022-10-28T01:48:19.801730Z"
    },
    "papermill": {
     "duration": 0.040103,
     "end_time": "2022-10-28T01:48:19.808188",
     "exception": false,
     "start_time": "2022-10-28T01:48:19.768085",
     "status": "completed"
    },
    "tags": []
   },
   "outputs": [],
   "source": [
    "from sklearn.linear_model import ElasticNet\n",
    "\n",
    "model4 = ElasticNet().fit(X_train,y_train)"
   ]
  },
  {
   "cell_type": "code",
   "execution_count": 25,
   "id": "2ea60a9f",
   "metadata": {
    "execution": {
     "iopub.execute_input": "2022-10-28T01:48:19.860347Z",
     "iopub.status.busy": "2022-10-28T01:48:19.859316Z",
     "iopub.status.idle": "2022-10-28T01:48:19.872104Z",
     "shell.execute_reply": "2022-10-28T01:48:19.870401Z"
    },
    "papermill": {
     "duration": 0.043927,
     "end_time": "2022-10-28T01:48:19.876587",
     "exception": false,
     "start_time": "2022-10-28T01:48:19.832660",
     "status": "completed"
    },
    "tags": []
   },
   "outputs": [],
   "source": [
    "y_test_pred4 = model4.predict(X_test)"
   ]
  },
  {
   "cell_type": "code",
   "execution_count": 26,
   "id": "8d70d465",
   "metadata": {
    "execution": {
     "iopub.execute_input": "2022-10-28T01:48:19.947063Z",
     "iopub.status.busy": "2022-10-28T01:48:19.946301Z",
     "iopub.status.idle": "2022-10-28T01:48:19.959513Z",
     "shell.execute_reply": "2022-10-28T01:48:19.957944Z"
    },
    "papermill": {
     "duration": 0.042324,
     "end_time": "2022-10-28T01:48:19.963791",
     "exception": false,
     "start_time": "2022-10-28T01:48:19.921467",
     "status": "completed"
    },
    "tags": []
   },
   "outputs": [
    {
     "data": {
      "text/plain": [
       "131.44672114555698"
      ]
     },
     "execution_count": 26,
     "metadata": {},
     "output_type": "execute_result"
    }
   ],
   "source": [
    "mean_absolute_error(y_test, y_test_pred4)"
   ]
  },
  {
   "cell_type": "code",
   "execution_count": 27,
   "id": "a1ad37db",
   "metadata": {
    "execution": {
     "iopub.execute_input": "2022-10-28T01:48:19.999923Z",
     "iopub.status.busy": "2022-10-28T01:48:19.999498Z",
     "iopub.status.idle": "2022-10-28T01:48:22.450837Z",
     "shell.execute_reply": "2022-10-28T01:48:22.449861Z"
    },
    "papermill": {
     "duration": 2.465798,
     "end_time": "2022-10-28T01:48:22.453455",
     "exception": false,
     "start_time": "2022-10-28T01:48:19.987657",
     "status": "completed"
    },
    "tags": []
   },
   "outputs": [],
   "source": [
    "from sklearn.ensemble import GradientBoostingRegressor\n",
    "model5 = GradientBoostingRegressor().fit(X_train,y_train)"
   ]
  },
  {
   "cell_type": "code",
   "execution_count": 28,
   "id": "15a7e22e",
   "metadata": {
    "execution": {
     "iopub.execute_input": "2022-10-28T01:48:22.475005Z",
     "iopub.status.busy": "2022-10-28T01:48:22.474233Z",
     "iopub.status.idle": "2022-10-28T01:48:22.489309Z",
     "shell.execute_reply": "2022-10-28T01:48:22.487897Z"
    },
    "papermill": {
     "duration": 0.029246,
     "end_time": "2022-10-28T01:48:22.492267",
     "exception": false,
     "start_time": "2022-10-28T01:48:22.463021",
     "status": "completed"
    },
    "tags": []
   },
   "outputs": [],
   "source": [
    "y_test_pred5 = model5.predict(X_test)"
   ]
  },
  {
   "cell_type": "code",
   "execution_count": 29,
   "id": "e265e2b4",
   "metadata": {
    "execution": {
     "iopub.execute_input": "2022-10-28T01:48:22.512849Z",
     "iopub.status.busy": "2022-10-28T01:48:22.512217Z",
     "iopub.status.idle": "2022-10-28T01:48:22.518534Z",
     "shell.execute_reply": "2022-10-28T01:48:22.517492Z"
    },
    "papermill": {
     "duration": 0.019161,
     "end_time": "2022-10-28T01:48:22.520723",
     "exception": false,
     "start_time": "2022-10-28T01:48:22.501562",
     "status": "completed"
    },
    "tags": []
   },
   "outputs": [
    {
     "data": {
      "text/plain": [
       "42.14948531076686"
      ]
     },
     "execution_count": 29,
     "metadata": {},
     "output_type": "execute_result"
    }
   ],
   "source": [
    "mean_absolute_error(y_test, y_test_pred5)"
   ]
  }
 ],
 "metadata": {
  "kernelspec": {
   "display_name": "Python 3",
   "language": "python",
   "name": "python3"
  },
  "language_info": {
   "codemirror_mode": {
    "name": "ipython",
    "version": 3
   },
   "file_extension": ".py",
   "mimetype": "text/x-python",
   "name": "python",
   "nbconvert_exporter": "python",
   "pygments_lexer": "ipython3",
   "version": "3.7.12"
  },
  "papermill": {
   "default_parameters": {},
   "duration": 15.088717,
   "end_time": "2022-10-28T01:48:23.252704",
   "environment_variables": {},
   "exception": null,
   "input_path": "__notebook__.ipynb",
   "output_path": "__notebook__.ipynb",
   "parameters": {},
   "start_time": "2022-10-28T01:48:08.163987",
   "version": "2.3.4"
  }
 },
 "nbformat": 4,
 "nbformat_minor": 5
}
